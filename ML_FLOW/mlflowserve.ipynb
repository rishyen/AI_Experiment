{
 "cells": [
  {
   "cell_type": "code",
   "execution_count": 16,
   "id": "4b994836-ce7c-499d-8718-8135d674c259",
   "metadata": {},
   "outputs": [],
   "source": [
    "import os\n",
    "os.environ['MLFLOW_TRACKING_URI']='file:///C:/mlflowexperiments'"
   ]
  },
  {
   "cell_type": "code",
   "execution_count": 18,
   "id": "4f086a5c-ea99-4230-b023-b08be4b65385",
   "metadata": {},
   "outputs": [
    {
     "name": "stdout",
     "output_type": "stream",
     "text": [
      "Empty DataFrame\n",
      "Columns: [run_id, experiment_id, status, artifact_uri, start_time, end_time]\n",
      "Index: []\n"
     ]
    }
   ],
   "source": [
    "import mlflow\n",
    "\n",
    "all_runs = mlflow.search_runs(search_all_experiments=True)\n",
    "print(all_runs)"
   ]
  },
  {
   "cell_type": "code",
   "execution_count": null,
   "id": "6d92e68c-28fe-4bee-b762-32162fdcda5c",
   "metadata": {},
   "outputs": [],
   "source": [
    "!mlflow models serve -p 8102 -m runs:/f2b285295d9840c4afcf0e4ed7a8596f/random-forest-model  --no-conda"
   ]
  },
  {
   "cell_type": "code",
   "execution_count": null,
   "id": "70eaca4a-d2b5-4c7f-8ee5-e245e056e785",
   "metadata": {},
   "outputs": [],
   "source": []
  }
 ],
 "metadata": {
  "kernelspec": {
   "display_name": "Python 3 (ipykernel)",
   "language": "python",
   "name": "python3"
  },
  "language_info": {
   "codemirror_mode": {
    "name": "ipython",
    "version": 3
   },
   "file_extension": ".py",
   "mimetype": "text/x-python",
   "name": "python",
   "nbconvert_exporter": "python",
   "pygments_lexer": "ipython3",
   "version": "3.12.4"
  }
 },
 "nbformat": 4,
 "nbformat_minor": 5
}
